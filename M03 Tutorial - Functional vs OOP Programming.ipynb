{
 "cells": [
  {
   "cell_type": "code",
   "execution_count": 1,
   "id": "8283c0d0-771f-4306-932c-fbc9a14b2f8d",
   "metadata": {},
   "outputs": [],
   "source": [
    "#     Misty Mayfield\n",
    "#     CO3937652\n",
    "#     SDEV220 Spring Software Development\n",
    "#     M03 Tutorial - Functional vs OOP Programming\n",
    "#     2/5/23"
   ]
  },
  {
   "cell_type": "code",
   "execution_count": 2,
   "id": "71753c31-4f8a-4d9e-9c1a-febefe31232a",
   "metadata": {},
   "outputs": [],
   "source": [
    "#     57. Methods and Functions Homework Overview:"
   ]
  },
  {
   "cell_type": "code",
   "execution_count": 32,
   "id": "a752a0f9-a4a7-4175-b739-d94624cfba58",
   "metadata": {},
   "outputs": [
    {
     "name": "stdout",
     "output_type": "stream",
     "text": [
      "33.49333333333333\n"
     ]
    }
   ],
   "source": [
    "#     Question 1:  Volume of a sphere\n",
    "def vol(rad):\n",
    "    pi = 3.14\n",
    "    print ((rad**3)*(4/3)*pi)\n",
    "    \n",
    "#Check\n",
    "vol(2)"
   ]
  },
  {
   "cell_type": "code",
   "execution_count": 16,
   "id": "ef157d20-94ca-4e2c-ad06-1b85bbc9e8d0",
   "metadata": {},
   "outputs": [
    {
     "name": "stdout",
     "output_type": "stream",
     "text": [
      "5 is in the range between 2 and 7\n"
     ]
    }
   ],
   "source": [
    "#     Question 2: Number in range\n",
    "def ran_check(num, low, high):\n",
    "    if num >= low and num <= high:\n",
    "        print(num,  \"is in the range between\",  low,  \"and\", high)\n",
    "    else:\n",
    "        print(num, \"is NOT in the range between\", low, \"and\", high)\n",
    "    \n",
    "    \n",
    "#Check\n",
    "ran_check(5,2,7)"
   ]
  },
  {
   "cell_type": "code",
   "execution_count": 19,
   "id": "d99833b8-7765-402b-bcc1-d57693eccc7d",
   "metadata": {},
   "outputs": [
    {
     "name": "stdout",
     "output_type": "stream",
     "text": [
      "True\n"
     ]
    }
   ],
   "source": [
    "def ran_bool(num, low, high):\n",
    "    if num >= low and num <= high:\n",
    "        print(True)\n",
    "    else:\n",
    "        print(False)\n",
    "        \n",
    "#Check\n",
    "ran_bool(3,1,10)"
   ]
  },
  {
   "cell_type": "code",
   "execution_count": 23,
   "id": "50cec04a-31c4-43eb-a22c-b528302f3c78",
   "metadata": {},
   "outputs": [
    {
     "name": "stdout",
     "output_type": "stream",
     "text": [
      "Original String: Hello Mr. Rogers, how are you this fine Tuesday?\n",
      "No. of Upper case characters: 4\n",
      "No. of Lower case characters: 33\n"
     ]
    }
   ],
   "source": [
    "#     Question 3: Count the upper and lower case letters in string\n",
    "def up_low(s):\n",
    "    upper_count = 0\n",
    "    lower_count = 0\n",
    "    for x in s:\n",
    "        if(x.isupper()):\n",
    "            upper_count += 1\n",
    "        elif(x.islower()):\n",
    "            lower_count +=1\n",
    "    print('Original String:', s)\n",
    "    print('No. of Upper case characters:', upper_count)\n",
    "    print('No. of Lower case characters:', lower_count)\n",
    "            \n",
    "    \n",
    "#Check\n",
    "s = 'Hello Mr. Rogers, how are you this fine Tuesday?'\n",
    "up_low(s)"
   ]
  },
  {
   "cell_type": "code",
   "execution_count": 33,
   "id": "9b15ca30-9f4b-4e6a-94af-c577afef0454",
   "metadata": {
    "tags": []
   },
   "outputs": [
    {
     "name": "stdout",
     "output_type": "stream",
     "text": [
      "[1, 2, 3, 4, 5]\n"
     ]
    }
   ],
   "source": [
    "#     Question 4: Make list of unique elements from a list\n",
    "def unique_list(first):\n",
    "    my_list = []\n",
    "    for num in first:\n",
    "        if num not in my_list:\n",
    "            my_list.append(num)\n",
    "    print(my_list)\n",
    "    \n",
    "#Check\n",
    "unique_list([1, 1, 1, 1, 2, 2, 3, 3, 3, 3, 4, 5])"
   ]
  },
  {
   "cell_type": "code",
   "execution_count": 41,
   "id": "0c6910cf-6609-4dac-be26-1782e1117be9",
   "metadata": {},
   "outputs": [
    {
     "name": "stdout",
     "output_type": "stream",
     "text": [
      "-24\n"
     ]
    }
   ],
   "source": [
    "#     Function to multiply numbers in list\n",
    "def multiply(numbers):\n",
    "    num = 1\n",
    "    my_list = [numbers]\n",
    "    for n in numbers:\n",
    "        num = num * n\n",
    "    print(num)\n",
    "    \n",
    "#Check\n",
    "multiply([1,2,3,-4])"
   ]
  },
  {
   "cell_type": "code",
   "execution_count": 44,
   "id": "159cb9cd-aeae-4c21-b471-7c434cce12c2",
   "metadata": {},
   "outputs": [
    {
     "data": {
      "text/plain": [
       "True"
      ]
     },
     "execution_count": 44,
     "metadata": {},
     "output_type": "execute_result"
    }
   ],
   "source": [
    "#   Check for a palindrome\n",
    "def palindrome(s):\n",
    "    from collections import deque\n",
    "    dq = deque(s)\n",
    "    while len(dq) > 1:\n",
    "        if dq.popleft() != dq.pop():\n",
    "            return False\n",
    "    return True\n",
    "    \n",
    "#Check\n",
    "palindrome('helleh')"
   ]
  },
  {
   "cell_type": "code",
   "execution_count": 68,
   "id": "21de9df6-7f43-437f-9bce-180d7b02dc5d",
   "metadata": {},
   "outputs": [
    {
     "name": "stdout",
     "output_type": "stream",
     "text": [
      "['a', 'b', 'c', 'd', 'e', 'f', 'g', 'h', 'i', 'j', 'k', 'l', 'm', 'n', 'o', 'p', 'q', 'r', 's', 't', 'u', 'v', 'w', 'x', 'y', 'z']\n",
      "['a', 'b', 'c', 'd', 'e', 'f', 'g', 'h', 'i', 'j', 'k', 'l', 'm', 'n', 'o', 'p', 'q', 'r', 's', 't', 'u', 'v', 'w', 'x', 'y', 'z']\n",
      "True\n"
     ]
    }
   ],
   "source": [
    "#     Checks if string is a pangram\n",
    "import string\n",
    "def ispangram(str1, alphabet = string.ascii_lowercase):\n",
    "    letters_list = []\n",
    "    abc = []\n",
    "    low_str = str1.lower()\n",
    "    ls = \"\".join(low_str.split())\n",
    "    for letters in ls:\n",
    "        if letters not in letters_list:\n",
    "            letters_list.append(letters)\n",
    "    sorted_list = sorted(letters_list)\n",
    "    print(sorted_list)\n",
    "    for letters in alphabet:\n",
    "        if letters not in abc:\n",
    "            abc.append(letters)\n",
    "    print(abc)\n",
    "    if sorted_list == abc:\n",
    "        print(True)\n",
    "    else:\n",
    "        print(False)\n",
    "    \n",
    "    \n",
    "#Check\n",
    "ispangram('The quick brown fox jumps over the lazy dog')"
   ]
  },
  {
   "cell_type": "code",
   "execution_count": 69,
   "id": "224076ef-1b6e-4303-9422-026ed184bfb8",
   "metadata": {},
   "outputs": [],
   "source": [
    "#     73. Object Oriented Programming - Homework"
   ]
  },
  {
   "cell_type": "code",
   "execution_count": 84,
   "id": "9e8b42f4-470f-440c-b481-1e297f6ddbfe",
   "metadata": {},
   "outputs": [
    {
     "data": {
      "text/plain": [
       "(9.433981132056603, 1.6)"
      ]
     },
     "execution_count": 84,
     "metadata": {},
     "output_type": "execute_result"
    }
   ],
   "source": [
    "#     Question 1: Fill in Line class methods to accept coordinates as a pair of tuples and return slope and distance of line\n",
    "class Line:\n",
    "    \n",
    "    def __init__(self, coor1, coor2):\n",
    "        self.coor1 = coor1\n",
    "        self.coor2 = coor2\n",
    "    \n",
    "    def distance(self):  #d = sqrt(((x2 - x1)**2) + ((y2 - y1)**2))\n",
    "        x1, y1 = self.coor1\n",
    "        x2, y2 = self.coor2\n",
    "        return (((x2-x1)**2) + ((y2-y1)**2))**0.5\n",
    "    \n",
    "    def slope(self):  #m = (y2 - y1) / (x2 - x1)\n",
    "        x1, y1 = self.coor1\n",
    "        x2, y2 = self.coor2\n",
    "        return ((y2-y1) / (x2-x1))\n",
    "\n",
    "# Example output:\n",
    "Coordinate1 = (3, 2)\n",
    "Coordinate2 = (8, 10)\n",
    "\n",
    "li = Line(Coordinate1, Coordinate2)\n",
    "\n",
    "li.distance(), li.slope()"
   ]
  },
  {
   "cell_type": "code",
   "execution_count": 86,
   "id": "1845c3f1-aacb-4efc-8042-5b72b0337326",
   "metadata": {},
   "outputs": [
    {
     "data": {
      "text/plain": [
       "(56.519999999999996, 94.19999999999999)"
      ]
     },
     "execution_count": 86,
     "metadata": {},
     "output_type": "execute_result"
    }
   ],
   "source": [
    "#     Question 2: Fill in cylinder class\n",
    "class Cylinder:\n",
    "    pi = 3.14\n",
    "    def __init__(self, height=1, radius=1):\n",
    "        self.height = height\n",
    "        self.radius = radius\n",
    "    \n",
    "    def volume(self): #V = pi*r*r*h\n",
    "        return (self.pi*self.radius*self.radius*self.height)\n",
    "    \n",
    "    def surface_area(self): #sa = 2pi*r*h + 2pi*r*r\n",
    "        return ((2*self.pi*self.radius*self.height) + (2*self.pi*self.radius*self.radius))\n",
    "    \n",
    "#Example Output\n",
    "c = Cylinder(2, 3)\n",
    "\n",
    "c.volume(), c.surface_area()"
   ]
  }
 ],
 "metadata": {
  "kernelspec": {
   "display_name": "Python 3 (ipykernel)",
   "language": "python",
   "name": "python3"
  },
  "language_info": {
   "codemirror_mode": {
    "name": "ipython",
    "version": 3
   },
   "file_extension": ".py",
   "mimetype": "text/x-python",
   "name": "python",
   "nbconvert_exporter": "python",
   "pygments_lexer": "ipython3",
   "version": "3.9.13"
  }
 },
 "nbformat": 4,
 "nbformat_minor": 5
}
